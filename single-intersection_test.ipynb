{
 "cells": [
  {
   "cell_type": "code",
   "execution_count": null,
   "id": "b69fbf59-b454-4eeb-bf46-ad4d3c21183b",
   "metadata": {},
   "outputs": [],
   "source": [
    "import sumo_rl\n",
    "import supersuit as ss\n",
    "from stable_baselines3.common.vec_env import VecMonitor\n",
    "import supersuit\n",
    "from pettingzoo.utils.env import ParallelEnv"
   ]
  },
  {
   "cell_type": "code",
   "execution_count": null,
   "id": "f2e0e775-00b7-4cb9-b7b5-e8ed783a3eed",
   "metadata": {},
   "outputs": [],
   "source": [
    "#เปิดแบบปกติ\n",
    "env = sumo_rl.env(net_file='sumo-rl-master/nets/single-intersection/single-intersection.net.xml',\n",
    "                  route_file='sumo-rl-master/nets/single-intersection/single-intersection.rou.xml',\n",
    "                  use_gui=True,\n",
    "                  delta_time = 10 ,\n",
    "                  num_seconds= 7000) "
   ]
  },
  {
   "cell_type": "code",
   "execution_count": null,
   "id": "0c6e78ac-27d1-4cf6-9b94-13fde3844949",
   "metadata": {},
   "outputs": [],
   "source": [
    "#เปิดแบบตั้งเวลา\n",
    "env.reset()\n",
    "i = 1\n",
    "for agent in env.agent_iter():\n",
    "    if i <= 5 :\n",
    "        env.step(0)\n",
    "    else :\n",
    "        env.step(1)\n",
    "        if i >= 10 :\n",
    "            i = 1\n",
    "    i = i + 1\n",
    "    observation, reward, done, info = env.last()\n",
    "    #print(observation , reward)\n",
    "    #print(reward)"
   ]
  },
  {
   "cell_type": "code",
   "execution_count": null,
   "id": "820732d5-4742-4ce9-ac89-270d7243295b",
   "metadata": {},
   "outputs": [],
   "source": [
    "#A2C model \n",
    "import gym\n",
    "\n",
    "from stable_baselines3 import A2C\n",
    "\n",
    "env = sumo_rl.parallel_env(net_file='sumo-rl-master/nets/single-intersection/single-intersection.net.xml',\n",
    "                  route_file='sumo-rl-master/nets/single-intersection/single-intersection.rou.xml',\n",
    "                  use_gui=False,\n",
    "                  delta_time = 10 ,\n",
    "                  num_seconds= 20000) \n",
    "\n",
    "env = ss.pettingzoo_env_to_vec_env_v1(env)\n",
    "env = ss.concat_vec_envs_v1(env, 2, num_cpus=1, base_class='stable_baselines3')\n",
    "env = VecMonitor(env)\n",
    "\n",
    "env.reset()\n",
    "\n",
    "model = A2C('MlpPolicy', env, verbose=1)\n",
    "model.learn(total_timesteps=20000)"
   ]
  },
  {
   "cell_type": "code",
   "execution_count": null,
   "id": "e705b9bf-1a34-43dc-9194-0f162d2d54f5",
   "metadata": {},
   "outputs": [],
   "source": [
    "#test A2C\n",
    "env = sumo_rl.env(net_file='sumo-rl-master/nets/single-intersection/single-intersection.net.xml',\n",
    "                  route_file='sumo-rl-master/nets/single-intersection/single-intersection.rou.xml',\n",
    "                  use_gui=True,\n",
    "                  delta_time = 10 ,\n",
    "                  num_seconds= 15000)  \n",
    "env.reset()\n",
    "\n",
    "for agent in env.agent_iter():\n",
    "\n",
    "    observation, reward, done, info = env.last()\n",
    "    action , _ = model.predict(observation)\n",
    "    env.step(action)\n",
    "    #print(observation,reward)"
   ]
  }
 ],
 "metadata": {
  "kernelspec": {
   "display_name": "Python 3 (ipykernel)",
   "language": "python",
   "name": "python3"
  },
  "language_info": {
   "codemirror_mode": {
    "name": "ipython",
    "version": 3
   },
   "file_extension": ".py",
   "mimetype": "text/x-python",
   "name": "python",
   "nbconvert_exporter": "python",
   "pygments_lexer": "ipython3",
   "version": "3.9.7"
  }
 },
 "nbformat": 4,
 "nbformat_minor": 5
}
