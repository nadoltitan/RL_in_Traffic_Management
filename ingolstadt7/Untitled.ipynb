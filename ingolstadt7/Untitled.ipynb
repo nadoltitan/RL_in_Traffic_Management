{
 "cells": [
  {
   "cell_type": "code",
   "execution_count": 11,
   "id": "f6911bea-5d5a-4c99-8219-bfc5e95fc397",
   "metadata": {},
   "outputs": [
    {
     "name": "stdout",
     "output_type": "stream",
     "text": [
      "calling C:\\Program Files (x86)\\Eclipse\\Sumo\\bin\\duarouter -n ingolstadt7.net.xml -r trips.xml --ignore-errors --begin 0 --end 100000 --no-step-log --no-warnings -o osm.rou.xml\n",
      "Success.\n"
     ]
    }
   ],
   "source": [
    "!python randomTrips.py -n ingolstadt7.net.xml -r osm.rou.xml -o trips.xml -e 100000 -p 0.5"
   ]
  },
  {
   "cell_type": "code",
   "execution_count": null,
   "id": "741ed8da-98d7-40cf-947e-119d9db93e58",
   "metadata": {},
   "outputs": [],
   "source": []
  }
 ],
 "metadata": {
  "kernelspec": {
   "display_name": "Python 3 (ipykernel)",
   "language": "python",
   "name": "python3"
  },
  "language_info": {
   "codemirror_mode": {
    "name": "ipython",
    "version": 3
   },
   "file_extension": ".py",
   "mimetype": "text/x-python",
   "name": "python",
   "nbconvert_exporter": "python",
   "pygments_lexer": "ipython3",
   "version": "3.9.7"
  }
 },
 "nbformat": 4,
 "nbformat_minor": 5
}
